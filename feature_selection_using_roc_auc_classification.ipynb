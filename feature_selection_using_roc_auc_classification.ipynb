{
  "nbformat": 4,
  "nbformat_minor": 0,
  "metadata": {
    "colab": {
      "name": "feature-selection-using-roc-auc-classification.ipynb",
      "provenance": [],
      "authorship_tag": "ABX9TyO8fMTfanqcay4lY6ra5uD1",
      "include_colab_link": true
    },
    "kernelspec": {
      "name": "python3",
      "display_name": "Python 3"
    },
    "language_info": {
      "name": "python"
    }
  },
  "cells": [
    {
      "cell_type": "markdown",
      "metadata": {
        "id": "view-in-github",
        "colab_type": "text"
      },
      "source": [
        "<a href=\"https://colab.research.google.com/github/shushantarora009/MachineLearning/blob/main/feature_selection_using_roc_auc_classification.ipynb\" target=\"_parent\"><img src=\"https://colab.research.google.com/assets/colab-badge.svg\" alt=\"Open In Colab\"/></a>"
      ]
    },
    {
      "cell_type": "code",
      "execution_count": 9,
      "metadata": {
        "id": "0QvPCQ4bhW6b"
      },
      "outputs": [],
      "source": [
        "import numpy as np\n",
        "import pandas as pd\n",
        "import matplotlib.pyplot as plt"
      ]
    },
    {
      "cell_type": "code",
      "source": [
        "df = pd.read_csv('dataset_2.csv')"
      ],
      "metadata": {
        "id": "k2NPxmeqjjTe"
      },
      "execution_count": 10,
      "outputs": []
    },
    {
      "cell_type": "code",
      "source": [
        "df.head()"
      ],
      "metadata": {
        "colab": {
          "base_uri": "https://localhost:8080/",
          "height": 300
        },
        "id": "08rZAS_4jrss",
        "outputId": "f2f04464-bd7d-41c8-e703-d1a4093cbd5c"
      },
      "execution_count": 11,
      "outputs": [
        {
          "output_type": "execute_result",
          "data": {
            "text/plain": [
              "      var_1      var_2      var_3     var_4     var_5     var_6     var_7  \\\n",
              "0  4.532710   3.280834  17.982476  4.404259  2.349910  0.603264  2.784655   \n",
              "1  5.821374  12.098722  13.309151  4.125599  1.045386  1.832035  1.833494   \n",
              "2  1.938776   7.952752   0.972671  3.459267  1.935782  0.621463  2.338139   \n",
              "3  6.020690   9.900544  17.869637  4.366715  1.973693  2.026012  2.853025   \n",
              "4  3.909506  10.576516   0.934191  3.419572  1.871438  3.340811  1.868282   \n",
              "\n",
              "      var_8      var_9     var_10  ...   var_100   var_101   var_102  \\\n",
              "0  0.323146  12.009691   0.139346  ...  2.079066  6.748819  2.941445   \n",
              "1  0.709090   8.652883   0.102757  ...  2.479789  7.795290  3.557890   \n",
              "2  0.344948   9.937850  11.691283  ...  1.861487  6.130886  3.401064   \n",
              "3  0.674847  11.816859   0.011151  ...  1.340944  7.240058  2.417235   \n",
              "4  0.439865  13.585620   1.153366  ...  2.738095  6.565509  4.341414   \n",
              "\n",
              "     var_103    var_104   var_105   var_106   var_107   var_108   var_109  \n",
              "0  18.360496  17.726613  7.774031  1.473441  1.973832  0.976806  2.541417  \n",
              "1  17.383378  15.193423  8.263673  1.878108  0.567939  1.018818  1.416433  \n",
              "2  15.850471  14.620599  6.849776  1.098210  1.959183  1.575493  1.857893  \n",
              "3  15.194609  13.553772  7.229971  0.835158  2.234482  0.946170  2.700606  \n",
              "4  15.893832  11.929787  6.954033  1.853364  0.511027  2.599562  0.811364  \n",
              "\n",
              "[5 rows x 109 columns]"
            ],
            "text/html": [
              "\n",
              "  <div id=\"df-e115b6c7-ec61-48ec-a959-c599fdec884c\">\n",
              "    <div class=\"colab-df-container\">\n",
              "      <div>\n",
              "<style scoped>\n",
              "    .dataframe tbody tr th:only-of-type {\n",
              "        vertical-align: middle;\n",
              "    }\n",
              "\n",
              "    .dataframe tbody tr th {\n",
              "        vertical-align: top;\n",
              "    }\n",
              "\n",
              "    .dataframe thead th {\n",
              "        text-align: right;\n",
              "    }\n",
              "</style>\n",
              "<table border=\"1\" class=\"dataframe\">\n",
              "  <thead>\n",
              "    <tr style=\"text-align: right;\">\n",
              "      <th></th>\n",
              "      <th>var_1</th>\n",
              "      <th>var_2</th>\n",
              "      <th>var_3</th>\n",
              "      <th>var_4</th>\n",
              "      <th>var_5</th>\n",
              "      <th>var_6</th>\n",
              "      <th>var_7</th>\n",
              "      <th>var_8</th>\n",
              "      <th>var_9</th>\n",
              "      <th>var_10</th>\n",
              "      <th>...</th>\n",
              "      <th>var_100</th>\n",
              "      <th>var_101</th>\n",
              "      <th>var_102</th>\n",
              "      <th>var_103</th>\n",
              "      <th>var_104</th>\n",
              "      <th>var_105</th>\n",
              "      <th>var_106</th>\n",
              "      <th>var_107</th>\n",
              "      <th>var_108</th>\n",
              "      <th>var_109</th>\n",
              "    </tr>\n",
              "  </thead>\n",
              "  <tbody>\n",
              "    <tr>\n",
              "      <th>0</th>\n",
              "      <td>4.532710</td>\n",
              "      <td>3.280834</td>\n",
              "      <td>17.982476</td>\n",
              "      <td>4.404259</td>\n",
              "      <td>2.349910</td>\n",
              "      <td>0.603264</td>\n",
              "      <td>2.784655</td>\n",
              "      <td>0.323146</td>\n",
              "      <td>12.009691</td>\n",
              "      <td>0.139346</td>\n",
              "      <td>...</td>\n",
              "      <td>2.079066</td>\n",
              "      <td>6.748819</td>\n",
              "      <td>2.941445</td>\n",
              "      <td>18.360496</td>\n",
              "      <td>17.726613</td>\n",
              "      <td>7.774031</td>\n",
              "      <td>1.473441</td>\n",
              "      <td>1.973832</td>\n",
              "      <td>0.976806</td>\n",
              "      <td>2.541417</td>\n",
              "    </tr>\n",
              "    <tr>\n",
              "      <th>1</th>\n",
              "      <td>5.821374</td>\n",
              "      <td>12.098722</td>\n",
              "      <td>13.309151</td>\n",
              "      <td>4.125599</td>\n",
              "      <td>1.045386</td>\n",
              "      <td>1.832035</td>\n",
              "      <td>1.833494</td>\n",
              "      <td>0.709090</td>\n",
              "      <td>8.652883</td>\n",
              "      <td>0.102757</td>\n",
              "      <td>...</td>\n",
              "      <td>2.479789</td>\n",
              "      <td>7.795290</td>\n",
              "      <td>3.557890</td>\n",
              "      <td>17.383378</td>\n",
              "      <td>15.193423</td>\n",
              "      <td>8.263673</td>\n",
              "      <td>1.878108</td>\n",
              "      <td>0.567939</td>\n",
              "      <td>1.018818</td>\n",
              "      <td>1.416433</td>\n",
              "    </tr>\n",
              "    <tr>\n",
              "      <th>2</th>\n",
              "      <td>1.938776</td>\n",
              "      <td>7.952752</td>\n",
              "      <td>0.972671</td>\n",
              "      <td>3.459267</td>\n",
              "      <td>1.935782</td>\n",
              "      <td>0.621463</td>\n",
              "      <td>2.338139</td>\n",
              "      <td>0.344948</td>\n",
              "      <td>9.937850</td>\n",
              "      <td>11.691283</td>\n",
              "      <td>...</td>\n",
              "      <td>1.861487</td>\n",
              "      <td>6.130886</td>\n",
              "      <td>3.401064</td>\n",
              "      <td>15.850471</td>\n",
              "      <td>14.620599</td>\n",
              "      <td>6.849776</td>\n",
              "      <td>1.098210</td>\n",
              "      <td>1.959183</td>\n",
              "      <td>1.575493</td>\n",
              "      <td>1.857893</td>\n",
              "    </tr>\n",
              "    <tr>\n",
              "      <th>3</th>\n",
              "      <td>6.020690</td>\n",
              "      <td>9.900544</td>\n",
              "      <td>17.869637</td>\n",
              "      <td>4.366715</td>\n",
              "      <td>1.973693</td>\n",
              "      <td>2.026012</td>\n",
              "      <td>2.853025</td>\n",
              "      <td>0.674847</td>\n",
              "      <td>11.816859</td>\n",
              "      <td>0.011151</td>\n",
              "      <td>...</td>\n",
              "      <td>1.340944</td>\n",
              "      <td>7.240058</td>\n",
              "      <td>2.417235</td>\n",
              "      <td>15.194609</td>\n",
              "      <td>13.553772</td>\n",
              "      <td>7.229971</td>\n",
              "      <td>0.835158</td>\n",
              "      <td>2.234482</td>\n",
              "      <td>0.946170</td>\n",
              "      <td>2.700606</td>\n",
              "    </tr>\n",
              "    <tr>\n",
              "      <th>4</th>\n",
              "      <td>3.909506</td>\n",
              "      <td>10.576516</td>\n",
              "      <td>0.934191</td>\n",
              "      <td>3.419572</td>\n",
              "      <td>1.871438</td>\n",
              "      <td>3.340811</td>\n",
              "      <td>1.868282</td>\n",
              "      <td>0.439865</td>\n",
              "      <td>13.585620</td>\n",
              "      <td>1.153366</td>\n",
              "      <td>...</td>\n",
              "      <td>2.738095</td>\n",
              "      <td>6.565509</td>\n",
              "      <td>4.341414</td>\n",
              "      <td>15.893832</td>\n",
              "      <td>11.929787</td>\n",
              "      <td>6.954033</td>\n",
              "      <td>1.853364</td>\n",
              "      <td>0.511027</td>\n",
              "      <td>2.599562</td>\n",
              "      <td>0.811364</td>\n",
              "    </tr>\n",
              "  </tbody>\n",
              "</table>\n",
              "<p>5 rows × 109 columns</p>\n",
              "</div>\n",
              "      <button class=\"colab-df-convert\" onclick=\"convertToInteractive('df-e115b6c7-ec61-48ec-a959-c599fdec884c')\"\n",
              "              title=\"Convert this dataframe to an interactive table.\"\n",
              "              style=\"display:none;\">\n",
              "        \n",
              "  <svg xmlns=\"http://www.w3.org/2000/svg\" height=\"24px\"viewBox=\"0 0 24 24\"\n",
              "       width=\"24px\">\n",
              "    <path d=\"M0 0h24v24H0V0z\" fill=\"none\"/>\n",
              "    <path d=\"M18.56 5.44l.94 2.06.94-2.06 2.06-.94-2.06-.94-.94-2.06-.94 2.06-2.06.94zm-11 1L8.5 8.5l.94-2.06 2.06-.94-2.06-.94L8.5 2.5l-.94 2.06-2.06.94zm10 10l.94 2.06.94-2.06 2.06-.94-2.06-.94-.94-2.06-.94 2.06-2.06.94z\"/><path d=\"M17.41 7.96l-1.37-1.37c-.4-.4-.92-.59-1.43-.59-.52 0-1.04.2-1.43.59L10.3 9.45l-7.72 7.72c-.78.78-.78 2.05 0 2.83L4 21.41c.39.39.9.59 1.41.59.51 0 1.02-.2 1.41-.59l7.78-7.78 2.81-2.81c.8-.78.8-2.07 0-2.86zM5.41 20L4 18.59l7.72-7.72 1.47 1.35L5.41 20z\"/>\n",
              "  </svg>\n",
              "      </button>\n",
              "      \n",
              "  <style>\n",
              "    .colab-df-container {\n",
              "      display:flex;\n",
              "      flex-wrap:wrap;\n",
              "      gap: 12px;\n",
              "    }\n",
              "\n",
              "    .colab-df-convert {\n",
              "      background-color: #E8F0FE;\n",
              "      border: none;\n",
              "      border-radius: 50%;\n",
              "      cursor: pointer;\n",
              "      display: none;\n",
              "      fill: #1967D2;\n",
              "      height: 32px;\n",
              "      padding: 0 0 0 0;\n",
              "      width: 32px;\n",
              "    }\n",
              "\n",
              "    .colab-df-convert:hover {\n",
              "      background-color: #E2EBFA;\n",
              "      box-shadow: 0px 1px 2px rgba(60, 64, 67, 0.3), 0px 1px 3px 1px rgba(60, 64, 67, 0.15);\n",
              "      fill: #174EA6;\n",
              "    }\n",
              "\n",
              "    [theme=dark] .colab-df-convert {\n",
              "      background-color: #3B4455;\n",
              "      fill: #D2E3FC;\n",
              "    }\n",
              "\n",
              "    [theme=dark] .colab-df-convert:hover {\n",
              "      background-color: #434B5C;\n",
              "      box-shadow: 0px 1px 3px 1px rgba(0, 0, 0, 0.15);\n",
              "      filter: drop-shadow(0px 1px 2px rgba(0, 0, 0, 0.3));\n",
              "      fill: #FFFFFF;\n",
              "    }\n",
              "  </style>\n",
              "\n",
              "      <script>\n",
              "        const buttonEl =\n",
              "          document.querySelector('#df-e115b6c7-ec61-48ec-a959-c599fdec884c button.colab-df-convert');\n",
              "        buttonEl.style.display =\n",
              "          google.colab.kernel.accessAllowed ? 'block' : 'none';\n",
              "\n",
              "        async function convertToInteractive(key) {\n",
              "          const element = document.querySelector('#df-e115b6c7-ec61-48ec-a959-c599fdec884c');\n",
              "          const dataTable =\n",
              "            await google.colab.kernel.invokeFunction('convertToInteractive',\n",
              "                                                     [key], {});\n",
              "          if (!dataTable) return;\n",
              "\n",
              "          const docLinkHtml = 'Like what you see? Visit the ' +\n",
              "            '<a target=\"_blank\" href=https://colab.research.google.com/notebooks/data_table.ipynb>data table notebook</a>'\n",
              "            + ' to learn more about interactive tables.';\n",
              "          element.innerHTML = '';\n",
              "          dataTable['output_type'] = 'display_data';\n",
              "          await google.colab.output.renderOutput(dataTable, element);\n",
              "          const docLink = document.createElement('div');\n",
              "          docLink.innerHTML = docLinkHtml;\n",
              "          element.appendChild(docLink);\n",
              "        }\n",
              "      </script>\n",
              "    </div>\n",
              "  </div>\n",
              "  "
            ]
          },
          "metadata": {},
          "execution_count": 11
        }
      ]
    },
    {
      "cell_type": "code",
      "source": [
        "from sklearn.model_selection import train_test_split"
      ],
      "metadata": {
        "id": "bcIWXyRzjs8P"
      },
      "execution_count": 12,
      "outputs": []
    },
    {
      "cell_type": "code",
      "source": [
        "X_train,X_test,y_train,y_test = train_test_split(df.drop(['target'],axis=1),df['target'],random_state=0,test_size=0.2)"
      ],
      "metadata": {
        "id": "r_Yu_hiJjzCW"
      },
      "execution_count": 13,
      "outputs": []
    },
    {
      "cell_type": "code",
      "source": [
        "X_train.shape, X_test.shape, y_train.shape, y_test.shape,type(X_train),type(y_train)"
      ],
      "metadata": {
        "colab": {
          "base_uri": "https://localhost:8080/"
        },
        "id": "SAqhIzqOsl4n",
        "outputId": "a37517e2-1051-4e2d-e3ec-c4cd894c2eda"
      },
      "execution_count": 17,
      "outputs": [
        {
          "output_type": "execute_result",
          "data": {
            "text/plain": [
              "((468, 108),\n",
              " (117, 108),\n",
              " (468,),\n",
              " (117,),\n",
              " pandas.core.frame.DataFrame,\n",
              " pandas.core.series.Series)"
            ]
          },
          "metadata": {},
          "execution_count": 17
        }
      ]
    },
    {
      "cell_type": "code",
      "source": [
        "from sklearn.metrics import roc_auc_score,mean_squared_error\n",
        "from sklearn.tree import DecisionTreeClassifier,DecisionTreeRegressor"
      ],
      "metadata": {
        "id": "BMK_-oGlsvKq"
      },
      "execution_count": 15,
      "outputs": []
    },
    {
      "cell_type": "code",
      "source": [
        "roc_values = []\n",
        "for feature in X_train.columns:\n",
        "  print(f'feature name{feature}')\n",
        "  clf = DecisionTreeClassifier()\n",
        "  clf.fit(X_train[feature].fillna(0).to_frame(),y_train)\n",
        "  y_scored = clf.predict_proba(X_test[feature].dropna().to_frame())\n",
        "  #print(f'y_scored: {y_scored}')\n",
        "  #print(f'y_scored type: {type(y_scored)} y_test_type: {type(y_test)}')\n",
        "  roc_values.append(roc_auc_score(y_test,y_scored[:,1]))\n",
        "  \n"
      ],
      "metadata": {
        "colab": {
          "base_uri": "https://localhost:8080/"
        },
        "id": "BYZaK-pls_QJ",
        "outputId": "85e57829-627c-45c1-eb79-ab6bc09f118b"
      },
      "execution_count": 30,
      "outputs": [
        {
          "output_type": "stream",
          "name": "stdout",
          "text": [
            "feature namevar_1\n",
            "feature namevar_2\n",
            "feature namevar_3\n",
            "feature namevar_4\n",
            "feature namevar_5\n",
            "feature namevar_6\n",
            "feature namevar_7\n",
            "feature namevar_8\n",
            "feature namevar_9\n",
            "feature namevar_10\n",
            "feature namevar_11\n",
            "feature namevar_12\n",
            "feature namevar_13\n",
            "feature namevar_14\n",
            "feature namevar_15\n",
            "feature namevar_16\n",
            "feature namevar_17\n",
            "feature namevar_18\n",
            "feature namevar_19\n",
            "feature namevar_20\n",
            "feature namevar_21\n",
            "feature namevar_22\n",
            "feature namevar_23\n",
            "feature namevar_24\n",
            "feature namevar_25\n",
            "feature namevar_26\n",
            "feature namevar_27\n",
            "feature namevar_28\n",
            "feature namevar_29\n",
            "feature namevar_30\n",
            "feature namevar_31\n",
            "feature namevar_32\n",
            "feature namevar_33\n",
            "feature namevar_34\n",
            "feature namevar_35\n",
            "feature namevar_36\n",
            "feature namevar_37\n",
            "feature namevar_38\n",
            "feature namevar_39\n",
            "feature namevar_40\n",
            "feature namevar_41\n",
            "feature namevar_42\n",
            "feature namevar_43\n",
            "feature namevar_44\n",
            "feature namevar_45\n",
            "feature namevar_46\n",
            "feature namevar_47\n",
            "feature namevar_48\n",
            "feature namevar_49\n",
            "feature namevar_50\n",
            "feature namevar_51\n",
            "feature namevar_52\n",
            "feature namevar_53\n",
            "feature namevar_54\n",
            "feature namevar_55\n",
            "feature namevar_56\n",
            "feature namevar_57\n",
            "feature namevar_58\n",
            "feature namevar_59\n",
            "feature namevar_60\n",
            "feature namevar_62\n",
            "feature namevar_63\n",
            "feature namevar_64\n",
            "feature namevar_65\n",
            "feature namevar_66\n",
            "feature namevar_67\n",
            "feature namevar_68\n",
            "feature namevar_69\n",
            "feature namevar_70\n",
            "feature namevar_71\n",
            "feature namevar_72\n",
            "feature namevar_73\n",
            "feature namevar_74\n",
            "feature namevar_75\n",
            "feature namevar_76\n",
            "feature namevar_77\n",
            "feature namevar_78\n",
            "feature namevar_79\n",
            "feature namevar_80\n",
            "feature namevar_81\n",
            "feature namevar_82\n",
            "feature namevar_83\n",
            "feature namevar_84\n",
            "feature namevar_85\n",
            "feature namevar_86\n",
            "feature namevar_87\n",
            "feature namevar_88\n",
            "feature namevar_89\n",
            "feature namevar_90\n",
            "feature namevar_91\n",
            "feature namevar_92\n",
            "feature namevar_93\n",
            "feature namevar_94\n",
            "feature namevar_95\n",
            "feature namevar_96\n",
            "feature namevar_97\n",
            "feature namevar_98\n",
            "feature namevar_99\n",
            "feature namevar_100\n",
            "feature namevar_101\n",
            "feature namevar_102\n",
            "feature namevar_103\n",
            "feature namevar_104\n",
            "feature namevar_105\n",
            "feature namevar_106\n",
            "feature namevar_107\n",
            "feature namevar_108\n",
            "feature namevar_109\n"
          ]
        }
      ]
    },
    {
      "cell_type": "code",
      "source": [
        "roc_values[0:10]"
      ],
      "metadata": {
        "id": "kmnyvE8NuJjP",
        "colab": {
          "base_uri": "https://localhost:8080/"
        },
        "outputId": "01b0e55d-fd15-4c6d-d344-042203930edd"
      },
      "execution_count": 23,
      "outputs": [
        {
          "output_type": "execute_result",
          "data": {
            "text/plain": [
              "[0.5181451612903226,\n",
              " 0.43279569892473124,\n",
              " 0.39650537634408606,\n",
              " 0.5786290322580645,\n",
              " 0.4180107526881721,\n",
              " 0.4428763440860215,\n",
              " 0.6377688172043012,\n",
              " 0.5376344086021505,\n",
              " 0.553763440860215,\n",
              " 0.4899193548387097]"
            ]
          },
          "metadata": {},
          "execution_count": 23
        }
      ]
    },
    {
      "cell_type": "code",
      "source": [
        "roc_values = pd.Series(roc_values)\n",
        "roc_values.index = X_train.columns\n",
        "roc_values"
      ],
      "metadata": {
        "colab": {
          "base_uri": "https://localhost:8080/"
        },
        "id": "ZVhgB8OL-hYW",
        "outputId": "49b39e76-ddaa-413c-8925-2c6c75e4b5dd"
      },
      "execution_count": 24,
      "outputs": [
        {
          "output_type": "execute_result",
          "data": {
            "text/plain": [
              "var_1      0.518145\n",
              "var_2      0.432796\n",
              "var_3      0.396505\n",
              "var_4      0.578629\n",
              "var_5      0.418011\n",
              "             ...   \n",
              "var_105    0.438844\n",
              "var_106    0.533602\n",
              "var_107    0.521505\n",
              "var_108    0.554659\n",
              "var_109    0.491263\n",
              "Length: 108, dtype: float64"
            ]
          },
          "metadata": {},
          "execution_count": 24
        }
      ]
    },
    {
      "cell_type": "code",
      "source": [
        "roc_values.sort_values(ascending=False).plot.bar(figsize=(20,5))\n",
        "plt.ylabel('roc-auc')"
      ],
      "metadata": {
        "colab": {
          "base_uri": "https://localhost:8080/",
          "height": 368
        },
        "id": "Q-mz9Dm3_D6P",
        "outputId": "1d4e74a9-1b56-4d20-a695-f0eb0dc48048"
      },
      "execution_count": 26,
      "outputs": [
        {
          "output_type": "execute_result",
          "data": {
            "text/plain": [
              "Text(0, 0.5, 'roc-auc')"
            ]
          },
          "metadata": {},
          "execution_count": 26
        },
        {
          "output_type": "display_data",
          "data": {
            "text/plain": [
              "<Figure size 1440x360 with 1 Axes>"
            ],
            "image/png": "[encoded data removed]"
          },
          "metadata": {
            "needs_background": "light"
          }
        }
      ]
    },
    {
      "cell_type": "code",
      "source": [
        "len(roc_values[roc_values>0.5])"
      ],
      "metadata": {
        "colab": {
          "base_uri": "https://localhost:8080/"
        },
        "id": "Q_3bY15s_eSo",
        "outputId": "06b63e09-e9f8-459f-eca8-7462ec964bd7"
      },
      "execution_count": 27,
      "outputs": [
        {
          "output_type": "execute_result",
          "data": {
            "text/plain": [
              "52"
            ]
          },
          "metadata": {},
          "execution_count": 27
        }
      ]
    },
    {
      "cell_type": "code",
      "source": [
        "selected_features = roc_values[roc_values>0.5].index"
      ],
      "metadata": {
        "id": "UiBm03QT_xCc"
      },
      "execution_count": 28,
      "outputs": []
    },
    {
      "cell_type": "code",
      "source": [
        "selected_features"
      ],
      "metadata": {
        "colab": {
          "base_uri": "https://localhost:8080/"
        },
        "id": "cNtOtp68__cf",
        "outputId": "ea8d15b8-7b33-4918-d8ce-e1a6e5f119bd"
      },
      "execution_count": 29,
      "outputs": [
        {
          "output_type": "execute_result",
          "data": {
            "text/plain": [
              "Index(['var_1', 'var_4', 'var_7', 'var_8', 'var_9', 'var_13', 'var_15',\n",
              "       'var_16', 'var_20', 'var_21', 'var_22', 'var_24', 'var_25', 'var_30',\n",
              "       'var_33', 'var_34', 'var_35', 'var_36', 'var_38', 'var_40', 'var_44',\n",
              "       'var_45', 'var_46', 'var_48', 'var_51', 'var_52', 'var_54', 'var_55',\n",
              "       'var_56', 'var_57', 'var_62', 'var_63', 'var_65', 'var_66', 'var_68',\n",
              "       'var_69', 'var_73', 'var_78', 'var_79', 'var_80', 'var_83', 'var_86',\n",
              "       'var_87', 'var_91', 'var_93', 'var_94', 'var_95', 'var_96', 'var_101',\n",
              "       'var_106', 'var_107', 'var_108'],\n",
              "      dtype='object')"
            ]
          },
          "metadata": {},
          "execution_count": 29
        }
      ]
    },
    {
      "cell_type": "code",
      "source": [
        ""
      ],
      "metadata": {
        "id": "tSbvuD5zAA2i"
      },
      "execution_count": null,
      "outputs": []
    }
  ]
}